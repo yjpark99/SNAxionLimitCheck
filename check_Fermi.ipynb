{
 "cells": [
  {
   "cell_type": "code",
   "execution_count": 20,
   "id": "40bb500f-33ab-47bb-8cf5-c0043e54c998",
   "metadata": {},
   "outputs": [
    {
     "name": "stdout",
     "output_type": "stream",
     "text": [
      "The autoreload extension is already loaded. To reload it, use:\n",
      "  %reload_ext autoreload\n"
     ]
    }
   ],
   "source": [
    "%load_ext autoreload\n",
    "%autoreload 2\n",
    "\n",
    "import sys, os\n",
    "import numpy as np\n",
    "\n",
    "import matplotlib as mpl\n",
    "import matplotlib.pyplot as plt\n",
    "\n",
    "from tqdm import tqdm\n",
    "from scipy import interpolate\n",
    "from scipy import integrate\n",
    "from scipy.optimize import differential_evolution\n",
    "from scipy.special import xlogy\n",
    "from scipy.optimize import minimize\n",
    "\n",
    "from astropy import units as u"
   ]
  },
  {
   "cell_type": "markdown",
   "id": "98971a20-5473-4fd5-a62c-6b1929085b97",
   "metadata": {},
   "source": [
    "# Independent Check on Projection for Future SN\n",
    "\n",
    "Here we provide an independent check on the projections for axion constraints considering a Fermi-LAT-like telescope observing a 10kpc BSG in the future. We assume a KSVZ-like axion (see 2405.19393).\n",
    "\n",
    "Check performed by Orion Ning."
   ]
  },
  {
   "cell_type": "code",
   "execution_count": 21,
   "id": "b1773e89-a4a0-4757-a231-ed29c3d32be4",
   "metadata": {},
   "outputs": [
    {
     "name": "stdout",
     "output_type": "stream",
     "text": [
      "['Primakoff', 'Brem', 'Pion', 'E_bins', 'ma', 'time_bins']\n"
     ]
    }
   ],
   "source": [
    "#read in spectra\n",
    "#we assume a KSVZ-like axion (see 2405.19393), normalized to gagg = 1e-12 GeV^-1\n",
    "\n",
    "spec_data = np.load('projection_check.npz')\n",
    "print(spec_data.files)\n",
    "\n",
    "#spectra in units of photons/GeV/s"
   ]
  },
  {
   "cell_type": "code",
   "execution_count": 22,
   "id": "03258a4e-a6ff-4544-90ee-6a7d5148a52c",
   "metadata": {},
   "outputs": [],
   "source": [
    "#read in the Fermi effective area\n",
    "\n",
    "with fits.open(\"aeff_P8R3_TRANSIENT020_V2_PSF.fits\") as f:\n",
    "#     print(f.info())\n",
    "    #print(f[0].header)\n",
    "    \n",
    "    effA = 0\n",
    "    for i in range(4):\n",
    "        effA += f[i * 3 + 1].data[\"EFFAREA\"]\n",
    "    ebins = np.vstack((f[1].data[\"ENERG_LO\"], f[1].data[\"ENERG_HI\"]))\n",
    "    ctheta = np.vstack((f[1].data[\"CTHETA_LO\"], f[1].data[\"CTHETA_HI\"]))\n",
    "\n",
    "ecenters = np.mean(ebins, axis=0) / 1e3\n",
    "whs_E = np.where(ecenters < 1.0)[0]\n",
    "\n",
    "f_effA = interpolate.interp1d(ecenters[whs_E], np.amax(effA[0], axis=0)[whs_E] * 10000, fill_value='extrapolate')"
   ]
  },
  {
   "cell_type": "code",
   "execution_count": null,
   "id": "8380a9d9-4975-44d9-b3cb-a52616b72ea0",
   "metadata": {},
   "outputs": [],
   "source": []
  },
  {
   "cell_type": "code",
   "execution_count": 23,
   "id": "07a6862c-b213-43f0-94ba-3b8f9cddb100",
   "metadata": {},
   "outputs": [],
   "source": [
    "class analysis_ON:\n",
    "    def __init__(self, ma_idx, dist, spec_dict, f_effA, prim_flag = True, brem_flag = True, pion_flag = True, debug_flag=False):\n",
    "        \n",
    "        self.spec_dict = spec_dict\n",
    "\n",
    "        self.debug_flag = debug_flag\n",
    "        \n",
    "        self.ma_idx = ma_idx\n",
    "        \n",
    "        self.prim_flag = prim_flag\n",
    "        self.brem_flag = brem_flag\n",
    "        self.pion_flag = pion_flag\n",
    "        \n",
    "        self.d = dist\n",
    "\n",
    "        self._load_spec(self.ma_idx, self.spec_dict)\n",
    "        \n",
    "        if self.prim_flag:\n",
    "            print('including primakoff')\n",
    "            \n",
    "        if self.brem_flag:\n",
    "            print('including nucleon')\n",
    "            \n",
    "        if self.pion_flag:\n",
    "            print('including pion')\n",
    "\n",
    "        self.dE = np.concatenate(((0.1 - 0.001)/20 * np.ones(20), (1 - 0.12)/30 * np.ones(30)))\n",
    "        \n",
    "        self.f_effA = f_effA #interpolation function for effArea\n",
    "        self.effA_Fermi_raw = self.f_effA(self.E_bins)\n",
    "        self.effA_Fermi = np.clip(self.effA_Fermi_raw, 0, None)\n",
    "\n",
    "        self.data_cts = np.zeros_like(self.E_bins) #for projections, assume no background\n",
    "\n",
    "\n",
    "        #timing\n",
    "        self.delta_T_arr = np.diff(self.time_bins)                  \n",
    "        self.delta_T_arr = np.append(self.delta_T_arr, self.delta_T_arr[-1]) \n",
    "        \n",
    "        self.modnorm = 1.0e-12\n",
    "\n",
    "        if debug_flag:\n",
    "            print(\"self.effA_Fermi: \", self.effA_Fermi)\n",
    "            print(\"self.data_cts: \", self.data_cts)\n",
    "            print(\"Time bins: \" ,self.time_bins)\n",
    "            print(\"Time bin widths: \", self.delta_T_arr)\n",
    "        \n",
    "        gthresh = 2.71\n",
    "        self.modnorm = 1.0e-14 #choose normalization\n",
    "        lim_test = self.getlim(gthresh) \n",
    "        lim_lim  = (lim_test * self.modnorm**4.0)**(1.0/4.0)\n",
    "\n",
    "        print(\"Limit: \", lim_lim)\n",
    "        \n",
    "        \n",
    "    #####################################LOAD THINGS\n",
    "    \n",
    "    def _load_spec(self, ma_idx, _dict): #all normalized to gagg=1e-12 by default\n",
    "        self.time_bins = _dict['time_bins']\n",
    "        self.E_bins = _dict['E_bins']\n",
    "        self.prim = _dict['Primakoff'][ma_idx]\n",
    "        self.brem = _dict['Brem'][ma_idx]\n",
    "        self.pion = _dict['Pion'][ma_idx]\n",
    "        \n",
    "    ###############################MAKE SIGNAL\n",
    "    #we'll make a sig_model of energy for each time step\n",
    "    def make_signal(self, signorm):\n",
    "        gagg = self.modnorm\n",
    "        spectra = np.zeros_like(self.E_bins)\n",
    "\n",
    "        if self.prim_flag:\n",
    "            prim_photon = signorm * (gagg / 1e-12)**4 * self.prim[self.t_ind] * self.delta_T \n",
    "            spectra += prim_photon\n",
    "            \n",
    "        if self.brem_flag:\n",
    "            brem_photon = signorm * (gagg / 1e-12)**4 * self.brem[self.t_ind] *  self.delta_T\n",
    "            spectra += brem_photon\n",
    "            \n",
    "        if self.pion_flag:\n",
    "            pion_photon = signorm * (gagg / 1e-12)**4 * self.pion[self.t_ind] *  self.delta_T\n",
    "            spectra += pion_photon\n",
    "            \n",
    "        model_cts = self.effA_Fermi * spectra * self.dE / (4*np.pi*self.d**2)\n",
    "        \n",
    "        if self.debug_flag:\n",
    "            print(\"model cts: \", model_cts)\n",
    "        \n",
    "        return model_cts\n",
    "\n",
    "    ###############################FUNCTIONS FOR MINIMIZATION\n",
    "    \n",
    "    def loss(self, signorm):\n",
    "    \n",
    "        self.sig_model = self.make_signal(signorm)\n",
    "    \n",
    "        if np.min(self.sig_model) < 0.0:\n",
    "            return 1.0e10\n",
    "        else:\n",
    "            out = -2*np.sum(xlogy(self.data_cts, self.sig_model) - self.sig_model)\n",
    "            return np.nan_to_num(out, nan = 1.0e10)\n",
    "    \n",
    "    def joint_loss(self, signorm):\n",
    "        \n",
    "        joint_tot = 0\n",
    "\n",
    "        for ti in range(len(self.time_bins)):\n",
    "            self.t_ind = ti\n",
    "            self.delta_T = self.delta_T_arr[ti]\n",
    "            \n",
    "            the_loss = self.loss(signorm)\n",
    "            joint_tot += the_loss\n",
    "                \n",
    "        return joint_tot\n",
    "    \n",
    "    \n",
    "    def getlim(self, thresh):\n",
    "        #determine best-fit value\n",
    "        findBF = minimize(lambda siglam: self.joint_loss(*siglam), [0], method = 'Nelder-Mead', \\\n",
    "                         options = {'initial_simplex':[[-10.0], [10.0]], 'fatol':1e-4}) #[[-100\n",
    "        \n",
    "        bestfit_sig = findBF.x[0]\n",
    "        bestfit_TS = findBF.fun\n",
    "\n",
    "        if self.debug_flag:\n",
    "            print(\"Found Best Fit: \")\n",
    "            print(\"BF normalization: \", bestfit_sig)\n",
    "            print(\"BF g_agg: \", (bestfit_sig * self.modnorm**4.0)**(1.0/4.0))\n",
    "            print(\"BF TS: \", bestfit_TS)\n",
    "        \n",
    "        self.bestfit_sig = bestfit_sig\n",
    "        self.bestfit_TS = bestfit_TS\n",
    "\n",
    "        #now we get the limit\n",
    "        findlim = minimize(lambda siglam: np.abs((self.joint_loss(*siglam) - bestfit_TS)*(siglam[0] > bestfit_sig) - \\\n",
    "                                                 thresh), [bestfit_sig+5.0], method = 'Nelder-Mead', \\\n",
    "                          options = {'initial_simplex':[[bestfit_sig], [bestfit_sig+10.0]], 'fatol':1e-3})\n",
    "        \n",
    "        return findlim.x[0]\n"
   ]
  },
  {
   "cell_type": "code",
   "execution_count": 25,
   "id": "3037ebf0-05c1-44b1-8f0c-442796e40693",
   "metadata": {},
   "outputs": [
    {
     "name": "stdout",
     "output_type": "stream",
     "text": [
      "including primakoff\n",
      "including nucleon\n",
      "including pion\n",
      "Limit:  1.6729883858229222e-14\n"
     ]
    }
   ],
   "source": [
    "ma_idx = 0 \n",
    "fermi_proj = analysis_ON(ma_idx, (10.0 * u.kpc).to(u.cm).value, spec_data, f_effA, \\\n",
    "                         prim_flag = True, brem_flag = True, pion_flag = True, debug_flag=False)"
   ]
  },
  {
   "cell_type": "markdown",
   "id": "9d1e01ea-3c7e-4808-b7d1-bb3279512944",
   "metadata": {},
   "source": [
    "We see that this resulting 95% upper limit reproduces the low-mass KSVZ dotted red line projection in Fig. 1 of 2405.19393. The exact value in that plot is $\\sim 1.69\\times 10^{-14}$ GeV$^{-1}$ at low-mass. "
   ]
  }
 ],
 "metadata": {
  "kernelspec": {
   "display_name": "frankenstein",
   "language": "python",
   "name": "frankenstein"
  },
  "language_info": {
   "codemirror_mode": {
    "name": "ipython",
    "version": 3
   },
   "file_extension": ".py",
   "mimetype": "text/x-python",
   "name": "python",
   "nbconvert_exporter": "python",
   "pygments_lexer": "ipython3",
   "version": "3.8.18"
  }
 },
 "nbformat": 4,
 "nbformat_minor": 5
}
