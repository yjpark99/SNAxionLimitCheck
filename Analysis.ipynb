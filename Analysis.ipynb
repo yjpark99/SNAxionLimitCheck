{
 "cells": [
  {
   "cell_type": "code",
   "execution_count": 2,
   "metadata": {},
   "outputs": [
    {
     "name": "stdout",
     "output_type": "stream",
     "text": [
      "The autoreload extension is already loaded. To reload it, use:\n",
      "  %reload_ext autoreload\n"
     ]
    }
   ],
   "source": [
    "%load_ext autoreload\n",
    "%autoreload 2"
   ]
  },
  {
   "cell_type": "code",
   "execution_count": 4,
   "metadata": {},
   "outputs": [],
   "source": [
    "import sys, os\n",
    "import numpy as np\n",
    "\n",
    "import matplotlib as mpl\n",
    "import matplotlib.pyplot as plt\n",
    "\n",
    "from tqdm import tqdm\n",
    "from scipy import interpolate as interp\n",
    "from scipy import integrate\n",
    "from scipy.optimize import differential_evolution\n",
    "\n",
    "from spectrum import *"
   ]
  },
  {
   "cell_type": "markdown",
   "metadata": {},
   "source": [
    "---"
   ]
  },
  {
   "cell_type": "code",
   "execution_count": 5,
   "metadata": {},
   "outputs": [],
   "source": [
    "ld_dir = 'Primakoff_Spectra/Spectra_Primakoff_18p6/'\n",
    "Ebins, prim = load_prim(ld_dir, Eoutput = True)\n",
    "tbins = load_time(ld_dir)"
   ]
  },
  {
   "cell_type": "code",
   "execution_count": 6,
   "metadata": {},
   "outputs": [
    {
     "name": "stderr",
     "output_type": "stream",
     "text": [
      "/tmp/ipykernel_2034869/252834630.py:6: IntegrationWarning: The maximum number of subdivisions (50) has been achieved.\n",
      "  If increasing the limit yields no improvement it is advised to analyze \n",
      "  the integrand in order to determine the difficulties.  If the position of a \n",
      "  local difficulty can be determined (singularity, discontinuity) one will \n",
      "  probably gain from splitting up the interval and calling the integrator \n",
      "  on the subranges.  Perhaps a special-purpose integrator should be used.\n",
      "  prim_dndt[i] = integrate.quad(f_prim, 0.025, 0.1)[0]\n",
      "/tmp/ipykernel_2034869/252834630.py:9: IntegrationWarning: The maximum number of subdivisions (50) has been achieved.\n",
      "  If increasing the limit yields no improvement it is advised to analyze \n",
      "  the integrand in order to determine the difficulties.  If the position of a \n",
      "  local difficulty can be determined (singularity, discontinuity) one will \n",
      "  probably gain from splitting up the interval and calling the integrator \n",
      "  on the subranges.  Perhaps a special-purpose integrator should be used.\n",
      "  prim_N = integrate.quad(fp_dndt, 0, 10)[0]\n"
     ]
    }
   ],
   "source": [
    "# calculate the dN/dt\n",
    "prim_dndt = np.zeros(prim.shape[0])\n",
    "\n",
    "for i in range(prim.shape[0]):\n",
    "    f_prim = interp.interp1d(Ebins, prim[i])\n",
    "    prim_dndt[i] = integrate.quad(f_prim, 0.025, 0.1)[0]\n",
    "\n",
    "fp_dndt = interp.interp1d(tbins, prim_dndt)\n",
    "prim_N = integrate.quad(fp_dndt, 0, 10)[0]"
   ]
  },
  {
   "cell_type": "code",
   "execution_count": 15,
   "metadata": {},
   "outputs": [
    {
     "name": "stdout",
     "output_type": "stream",
     "text": [
      "N_gamma: 7.711e+44\n"
     ]
    }
   ],
   "source": [
    "prim_Ngamma = prim_N * 5.85e-7 * (1e-11)**2\n",
    "print(f\"N_gamma: {prim_Ngamma:.3e}\")"
   ]
  },
  {
   "cell_type": "code",
   "execution_count": 16,
   "metadata": {},
   "outputs": [
    {
     "name": "stdout",
     "output_type": "stream",
     "text": [
      "Flux: 1.561e-01 cm^-2 s^-1\n"
     ]
    }
   ],
   "source": [
    "prim_flux = prim_Ngamma / (4 * np.pi * (51 * u.kpc).to(u.cm).value**2) * 63\n",
    "print(f\"Flux: {prim_flux:.3e} cm^-2 s^-1\")"
   ]
  },
  {
   "cell_type": "code",
   "execution_count": 21,
   "metadata": {},
   "outputs": [
    {
     "name": "stdout",
     "output_type": "stream",
     "text": [
      "Limit on gagg = 3.36e-11 GeV^-1\n"
     ]
    }
   ],
   "source": [
    "print(f\"Limit on gagg = {(20 / prim_flux)**(1/4) * 1e-11:.2e} GeV^-1\")"
   ]
  },
  {
   "cell_type": "markdown",
   "metadata": {},
   "source": [
    "---"
   ]
  },
  {
   "cell_type": "markdown",
   "metadata": {},
   "source": [
    "# our analysis"
   ]
  },
  {
   "cell_type": "code",
   "execution_count": 22,
   "metadata": {},
   "outputs": [],
   "source": [
    "from smm_analysis import *"
   ]
  },
  {
   "cell_type": "code",
   "execution_count": 28,
   "metadata": {},
   "outputs": [],
   "source": [
    "def calc_smm_spec(LD_dir, smm_energy, convprob):\n",
    "    '''\n",
    "    Calculate the SMM spectrum for a range of ma and smm_energy.\n",
    "    Parameters:\n",
    "    -----------\n",
    "    LD_dir: str\n",
    "        Directory containing the Primakoff spectra files.\n",
    "    smm_energy: array-like\n",
    "        Array of SMM energies to consider in units of GeV.\n",
    "    convprob: array-like\n",
    "        Array of conversion probabilities as a function of energy.\n",
    "    Returns:\n",
    "    --------\n",
    "    spec_list: list of np.ndarray\n",
    "        List of spectra arrays for each SMM energy.\n",
    "    '''\n",
    "    Ebins, loaded = load_spec(LD_dir, Eoutput = True)\n",
    "    spec_list = []\n",
    "    \n",
    "    for int_I in smm_energy:\n",
    "        tm_spec = np.zeros(loaded.shape[0])\n",
    "        \n",
    "        for ti in range(loaded.shape[0]):\n",
    "            photon_spec = interp.interp1d(Ebins, loaded[ti] * convprob)\n",
    "            tm_spec[ti] = integrate.quad(photon_spec, *int_I)\n",
    "        spec_list.append(tm_spec)\n",
    "        \n",
    "    return spec_list"
   ]
  },
  {
   "cell_type": "code",
   "execution_count": 29,
   "metadata": {},
   "outputs": [
    {
     "ename": "ValueError",
     "evalue": "setting an array element with a sequence.",
     "output_type": "error",
     "traceback": [
      "\u001b[0;31m---------------------------------------------------------------------------\u001b[0m",
      "\u001b[0;31mTypeError\u001b[0m                                 Traceback (most recent call last)",
      "\u001b[0;31mTypeError\u001b[0m: float() argument must be a string or a real number, not 'tuple'",
      "\nThe above exception was the direct cause of the following exception:\n",
      "\u001b[0;31mValueError\u001b[0m                                Traceback (most recent call last)",
      "Cell \u001b[0;32mIn[29], line 1\u001b[0m\n\u001b[0;32m----> 1\u001b[0m \u001b[43mcalc_smm_spec\u001b[49m\u001b[43m(\u001b[49m\u001b[43mld_dir\u001b[49m\u001b[43m,\u001b[49m\u001b[43m \u001b[49m\u001b[43m[\u001b[49m\u001b[43m[\u001b[49m\u001b[38;5;241;43m0.0041\u001b[39;49m\u001b[43m,\u001b[49m\u001b[43m \u001b[49m\u001b[38;5;241;43m0.0064\u001b[39;49m\u001b[43m]\u001b[49m\u001b[43m,\u001b[49m\u001b[43m \u001b[49m\u001b[43m[\u001b[49m\u001b[38;5;241;43m0.01\u001b[39;49m\u001b[43m,\u001b[49m\u001b[43m \u001b[49m\u001b[38;5;241;43m0.025\u001b[39;49m\u001b[43m]\u001b[49m\u001b[43m,\u001b[49m\u001b[43m \u001b[49m\u001b[43m[\u001b[49m\u001b[38;5;241;43m0.025\u001b[39;49m\u001b[43m,\u001b[49m\u001b[43m \u001b[49m\u001b[38;5;241;43m0.1\u001b[39;49m\u001b[43m]\u001b[49m\u001b[43m]\u001b[49m\u001b[43m,\u001b[49m\u001b[43m \u001b[49m\u001b[38;5;241;43m5.85e-9\u001b[39;49m\u001b[43m)\u001b[49m\n",
      "Cell \u001b[0;32mIn[28], line 25\u001b[0m, in \u001b[0;36mcalc_smm_spec\u001b[0;34m(LD_dir, smm_energy, convprob)\u001b[0m\n\u001b[1;32m     23\u001b[0m     \u001b[38;5;28;01mfor\u001b[39;00m ti \u001b[38;5;129;01min\u001b[39;00m \u001b[38;5;28mrange\u001b[39m(loaded\u001b[38;5;241m.\u001b[39mshape[\u001b[38;5;241m0\u001b[39m]):\n\u001b[1;32m     24\u001b[0m         photon_spec \u001b[38;5;241m=\u001b[39m interp\u001b[38;5;241m.\u001b[39minterp1d(Ebins, loaded[ti] \u001b[38;5;241m*\u001b[39m convprob)\n\u001b[0;32m---> 25\u001b[0m         \u001b[43mtm_spec\u001b[49m\u001b[43m[\u001b[49m\u001b[43mti\u001b[49m\u001b[43m]\u001b[49m \u001b[38;5;241m=\u001b[39m integrate\u001b[38;5;241m.\u001b[39mquad(photon_spec, \u001b[38;5;241m*\u001b[39mint_I)\n\u001b[1;32m     26\u001b[0m     spec_list\u001b[38;5;241m.\u001b[39mappend(tm_spec)\n\u001b[1;32m     28\u001b[0m \u001b[38;5;28;01mreturn\u001b[39;00m spec_list\n",
      "\u001b[0;31mValueError\u001b[0m: setting an array element with a sequence."
     ]
    }
   ],
   "source": [
    "calc_smm_spec(ld_dir, [[0.0041, 0.0064], [0.01, 0.025], [0.025, 0.1]], 5.85e-9)"
   ]
  },
  {
   "cell_type": "code",
   "execution_count": null,
   "metadata": {},
   "outputs": [],
   "source": [
    "calc_smm_spec(ld_dir, [1e-])"
   ]
  }
 ],
 "metadata": {
  "kernelspec": {
   "display_name": "general",
   "language": "python",
   "name": "general"
  },
  "language_info": {
   "codemirror_mode": {
    "name": "ipython",
    "version": 3
   },
   "file_extension": ".py",
   "mimetype": "text/x-python",
   "name": "python",
   "nbconvert_exporter": "python",
   "pygments_lexer": "ipython3",
   "version": "3.11.9"
  }
 },
 "nbformat": 4,
 "nbformat_minor": 2
}
