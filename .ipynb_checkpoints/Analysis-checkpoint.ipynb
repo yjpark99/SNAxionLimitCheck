{
 "cells": [
  {
   "cell_type": "code",
   "execution_count": 2,
   "metadata": {},
   "outputs": [
    {
     "name": "stdout",
     "output_type": "stream",
     "text": [
      "The autoreload extension is already loaded. To reload it, use:\n",
      "  %reload_ext autoreload\n"
     ]
    }
   ],
   "source": [
    "%load_ext autoreload\n",
    "%autoreload 2"
   ]
  },
  {
   "cell_type": "code",
   "execution_count": 10,
   "metadata": {},
   "outputs": [],
   "source": [
    "import sys, os\n",
    "import numpy as np\n",
    "\n",
    "import matplotlib as mpl\n",
    "import matplotlib.pyplot as plt\n",
    "\n",
    "from tqdm import tqdm\n",
    "from scipy import interpolate as interp\n",
    "from scipy import integrate\n",
    "from scipy.optimize import differential_evolution\n",
    "from scipy.special import xlogy\n",
    "\n",
    "from astropy import units as u\n",
    "\n",
    "from spectrum import *\n",
    "\n",
    "from NucleonCouplings import *\n"
   ]
  },
  {
   "cell_type": "markdown",
   "metadata": {},
   "source": [
    "---"
   ]
  },
  {
   "cell_type": "markdown",
   "metadata": {},
   "source": [
    "# Primakoff -- No Time Bin Information\n",
    "\n",
    "Here we illustrate the estimate of the 95% upper limit from just Primakoff emission alone, without timing information (i.e. it is integrated over)"
   ]
  },
  {
   "cell_type": "code",
   "execution_count": 11,
   "metadata": {},
   "outputs": [],
   "source": [
    "ld_dir = 'Primakoff_Spectra/Spectra_Primakoff_18p6/'\n",
    "Ebins, prim = load_prim(ld_dir, Eoutput = True)\n",
    "tbins = load_time(ld_dir)"
   ]
  },
  {
   "cell_type": "code",
   "execution_count": 12,
   "metadata": {},
   "outputs": [
    {
     "name": "stderr",
     "output_type": "stream",
     "text": [
      "/tmp/ipykernel_2038313/252834630.py:6: IntegrationWarning: The maximum number of subdivisions (50) has been achieved.\n",
      "  If increasing the limit yields no improvement it is advised to analyze \n",
      "  the integrand in order to determine the difficulties.  If the position of a \n",
      "  local difficulty can be determined (singularity, discontinuity) one will \n",
      "  probably gain from splitting up the interval and calling the integrator \n",
      "  on the subranges.  Perhaps a special-purpose integrator should be used.\n",
      "  prim_dndt[i] = integrate.quad(f_prim, 0.025, 0.1)[0]\n",
      "/tmp/ipykernel_2038313/252834630.py:9: IntegrationWarning: The maximum number of subdivisions (50) has been achieved.\n",
      "  If increasing the limit yields no improvement it is advised to analyze \n",
      "  the integrand in order to determine the difficulties.  If the position of a \n",
      "  local difficulty can be determined (singularity, discontinuity) one will \n",
      "  probably gain from splitting up the interval and calling the integrator \n",
      "  on the subranges.  Perhaps a special-purpose integrator should be used.\n",
      "  prim_N = integrate.quad(fp_dndt, 0, 10)[0]\n"
     ]
    }
   ],
   "source": [
    "# calculate the dN/dt\n",
    "prim_dndt = np.zeros(prim.shape[0])\n",
    "\n",
    "for i in range(prim.shape[0]):\n",
    "    f_prim = interp.interp1d(Ebins, prim[i])\n",
    "    prim_dndt[i] = integrate.quad(f_prim, 0.025, 0.1)[0]\n",
    "\n",
    "fp_dndt = interp.interp1d(tbins, prim_dndt)\n",
    "prim_N = integrate.quad(fp_dndt, 0, 10)[0]"
   ]
  },
  {
   "cell_type": "code",
   "execution_count": 13,
   "metadata": {},
   "outputs": [
    {
     "name": "stdout",
     "output_type": "stream",
     "text": [
      "N_gamma: 7.711e+44\n"
     ]
    }
   ],
   "source": [
    "prim_Ngamma = prim_N * 5.85e-7 * (1e-11)**2\n",
    "print(f\"N_gamma: {prim_Ngamma:.3e}\")"
   ]
  },
  {
   "cell_type": "code",
   "execution_count": 14,
   "metadata": {},
   "outputs": [
    {
     "name": "stdout",
     "output_type": "stream",
     "text": [
      "Flux: 1.561e-01 cm^-2 s^-1\n"
     ]
    }
   ],
   "source": [
    "prim_flux = prim_Ngamma / (4 * np.pi * (51 * u.kpc).to(u.cm).value**2) * 63\n",
    "print(f\"Flux: {prim_flux:.3e} cm^-2 s^-1\")"
   ]
  },
  {
   "cell_type": "code",
   "execution_count": 15,
   "metadata": {},
   "outputs": [
    {
     "name": "stdout",
     "output_type": "stream",
     "text": [
      "Limit on gagg = 3.36e-11 GeV^-1\n"
     ]
    }
   ],
   "source": [
    "print(f\"Limit on gagg = {(20 / prim_flux)**(1/4) * 1e-11:.2e} GeV^-1\")"
   ]
  },
  {
   "cell_type": "markdown",
   "metadata": {},
   "source": [
    "---"
   ]
  },
  {
   "cell_type": "markdown",
   "metadata": {},
   "source": [
    "# Primakoff -- our fiducial analysis, complete with timing information\n",
    "\n",
    "This is our fiducial analysis in 2405.19393, which includes timing information, background profiling, utilizing all energy bins, and detailed upper limit setting"
   ]
  },
  {
   "cell_type": "code",
   "execution_count": 16,
   "metadata": {},
   "outputs": [],
   "source": [
    "from smm_analysis import *"
   ]
  },
  {
   "cell_type": "code",
   "execution_count": 17,
   "metadata": {},
   "outputs": [],
   "source": [
    "def calc_smm_spec(LD_dir, smm_energy, convprob):\n",
    "    '''\n",
    "    Calculate the SMM spectrum for a range of ma and smm_energy by integrating over energy.\n",
    "    Parameters:\n",
    "    -----------\n",
    "    LD_dir: str\n",
    "        Directory containing the spectra files.\n",
    "    smm_energy: array-like\n",
    "        Array of SMM energies to consider in units of GeV.\n",
    "    convprob: array-like\n",
    "        Array of conversion probabilities as a function of energy.\n",
    "    Returns:\n",
    "    --------\n",
    "    spec_list: list of np.ndarray\n",
    "        List of spectra arrays for each SMM energy in units of dN_gamma/dt.\n",
    "    '''\n",
    "    Ebins, loaded = load_spec(LD_dir, Eoutput = True)\n",
    "    spec_list = []\n",
    "    \n",
    "    for int_I in smm_energy:\n",
    "        tm_spec = np.zeros(loaded.shape[0])\n",
    "        \n",
    "        for ti in range(loaded.shape[0]):\n",
    "            photon_spec = interp.interp1d(Ebins, loaded[ti] * convprob)\n",
    "            tm_spec[ti] = integrate.quad(photon_spec, *int_I)[0]\n",
    "        spec_list.append(tm_spec)\n",
    "        \n",
    "    return spec_list"
   ]
  },
  {
   "cell_type": "code",
   "execution_count": 42,
   "metadata": {},
   "outputs": [
    {
     "name": "stdout",
     "output_type": "stream",
     "text": [
      "Primakoff_Spectra/Spectra_Primakoff_18p6/\n"
     ]
    },
    {
     "name": "stderr",
     "output_type": "stream",
     "text": [
      "/tmp/ipykernel_2034869/3279990529.py:25: IntegrationWarning: The maximum number of subdivisions (50) has been achieved.\n",
      "  If increasing the limit yields no improvement it is advised to analyze \n",
      "  the integrand in order to determine the difficulties.  If the position of a \n",
      "  local difficulty can be determined (singularity, discontinuity) one will \n",
      "  probably gain from splitting up the interval and calling the integrator \n",
      "  on the subranges.  Perhaps a special-purpose integrator should be used.\n",
      "  tm_spec[ti] = integrate.quad(photon_spec, *int_I)[0]\n"
     ]
    },
    {
     "name": "stdout",
     "output_type": "stream",
     "text": [
      "Nucleon_Spectra/Spectra_18p6/Spectra_Can/\n",
      "Nucleon_Spectra/Spectra_18p6/Spectra_Cap/\n",
      "Nucleon_Spectra/Spectra_18p6/Spectra_CanCap/\n"
     ]
    }
   ],
   "source": [
    "spec_dirs = [\"Primakoff_Spectra/Spectra_Primakoff_18p6/\", \"Nucleon_Spectra/Spectra_18p6/Spectra_Can/\", \"Nucleon_Spectra/Spectra_18p6/Spectra_Cap/\", \"Nucleon_Spectra/Spectra_18p6/Spectra_CanCap/\"]\n",
    "spec_dict = {\n",
    "    'Primakoff': [],\n",
    "    'n_Can': [],\n",
    "    'n_Cap': [],\n",
    "    'n_CanCap': []\n",
    "}\n",
    "\n",
    "for pi, stype in enumerate(spec_dict.keys()):\n",
    "    print(spec_dirs[pi])\n",
    "    # creating relevant photon spectrum components for 3 different energy bins in SMM data\n",
    "    spec_dict[stype] = np.expand_dims(calc_smm_spec(spec_dirs[pi], [[0.0041, 0.0064], [0.01, 0.025], [0.025, 0.1]], 5.85e-9), axis=1) # 3d array of SMM energy bin, axion mass array, and time bins\n",
    "\n",
    "spec_dict['time_bins'] = tbins # units of seconds\n",
    "spec_dict['E_bins'] = Ebins # units of GeV\n",
    "spec_dict['ma_array'] = [1e-21] # units of GeV\n",
    "\n",
    "# not considering pions, creating empty arrays for axion emission from pions\n",
    "spec_dict['p_Can'] = np.zeros_like(spec_dict['n_Can'])\n",
    "spec_dict['p_Cap'] = np.zeros_like(spec_dict['n_Can'])\n",
    "spec_dict['p_CanCap'] = np.zeros_like(spec_dict['n_Can'])\n",
    "\n",
    "data = np.loadtxt('smm_grs_data_sn1987a_oberauer93.dat', unpack=True)"
   ]
  },
  {
   "cell_type": "code",
   "execution_count": 43,
   "metadata": {},
   "outputs": [
    {
     "name": "stdout",
     "output_type": "stream",
     "text": [
      "including primakoff\n",
      "1.0280000000020664 3.0760000000009313\n",
      "3.0760000000009313 5.123999999999796\n",
      "5.123999999999796 7.172000000002299\n",
      "7.172000000002299 9.220000000001164\n",
      "1.0280000000020664 3.0760000000009313\n",
      "3.0760000000009313 5.123999999999796\n",
      "5.123999999999796 7.172000000002299\n",
      "7.172000000002299 9.220000000001164\n",
      "1.0280000000020664 3.0760000000009313\n",
      "3.0760000000009313 5.123999999999796\n",
      "5.123999999999796 7.172000000002299\n",
      "7.172000000002299 9.220000000001164\n"
     ]
    }
   ],
   "source": [
    "ma_idx = 0\n",
    "\n",
    "sm = model(ma_idx, (51.4 * u.kpc).to(u.cm).value, data[0], spec_dict, prim_flag=True, brem_flag=False, pion_flag=False)\n",
    "sig_ = sm.sig_model(gagg=1.0e-12)\n",
    "bkg_ = sm.bkg_model\n",
    "sa = analysis(data[0], data[1:], sig_, bkg_)\n",
    "\n",
    "sig_model_norm = np.amax(sa.sig_model) #this is a normalization factor for our signal when it undergoes fitting (see smm_analysis.py)"
   ]
  },
  {
   "cell_type": "code",
   "execution_count": 46,
   "metadata": {
    "scrolled": true
   },
   "outputs": [
    {
     "name": "stdout",
     "output_type": "stream",
     "text": [
      "0, 1, 2, 3, 4, 5, 6, 7, 8, 9, "
     ]
    }
   ],
   "source": [
    "norm_array = np.linspace(-1e2, 1e2, 501)\n",
    "fvals = np.zeros(len(norm_array))\n",
    "\n",
    "for i in range(len(norm_array)):\n",
    "    A = norm_array[i]\n",
    "    fit = lambda x: sa.negLL(np.append(x, A))\n",
    "    \n",
    "    out = differential_evolution(fit, [[5, 10], [-1, 1], [30, 35], [-1, 1], [10, 15], [-1, 1]], init = 'sobol', maxiter = 10000,\n",
    "                                 x0 = [7.77878979e+00, -1.36391545e-04,  3.28211092e+01, -1.79343614e-02, 1.22670755e+01, -9.57101247e-04])\n",
    "    if out.fun > 1e10:\n",
    "        out = differential_evolution(fit, [[5, 10], [-1, 1], [30, 35], [-1, 1], [10, 15], [-1, 1]], init = 'sobol', maxiter = 10000,\n",
    "                                 x0 = [7.77878979e+00, -1.36391545e-04,  3.28211092e+01, -1.79343614e-02, 1.22670755e+01, -9.57101247e-04])\n",
    "        print(\"nan issue?\")\n",
    "    fvals[i] = out.fun\n",
    "    \n",
    "    if (i % 50 == 49):\n",
    "        print(int(i / 50), end=', ')\n",
    "\n",
    "    "
   ]
  },
  {
   "cell_type": "code",
   "execution_count": 47,
   "metadata": {},
   "outputs": [
    {
     "name": "stdout",
     "output_type": "stream",
     "text": [
      "The 95% Upper Limit is (GeV$^{-1}$):  2.2098461568577002e-11\n"
     ]
    }
   ],
   "source": [
    "\n",
    "# Find minimum and compute one-sided upper 95% upper limit\n",
    "imin = np.argmin(fvals)\n",
    "fmin = fvals[imin]\n",
    "diff_f = fvals - fmin\n",
    "\n",
    "x = norm_array[imin:]\n",
    "y = diff_f[imin:]\n",
    "\n",
    "threshold = 2.71\n",
    "\n",
    "norm_95 = x[np.argmin(np.abs(y - threshold))]\n",
    "\n",
    "g_ul = (norm_95 /sig_model_norm)**(1/4) * 1.0e-12\n",
    "\n",
    "print(r\"The 95% Upper Limit is (GeV$^{-1}$): \", g_ul)"
   ]
  },
  {
   "cell_type": "markdown",
   "metadata": {},
   "source": [
    "---"
   ]
  },
  {
   "cell_type": "markdown",
   "metadata": {},
   "source": [
    "# Now also include Bremsstrahlung Emission\n",
    "\n",
    "With the addition of bremsstrahlung emission, we reproduce the flat limit from magnetosphere conversion in Fig. 1 of 2405.19393."
   ]
  },
  {
   "cell_type": "code",
   "execution_count": 18,
   "metadata": {},
   "outputs": [
    {
     "name": "stdout",
     "output_type": "stream",
     "text": [
      "Primakoff_Spectra/Spectra_Primakoff_18p6/\n"
     ]
    },
    {
     "name": "stderr",
     "output_type": "stream",
     "text": [
      "/tmp/ipykernel_2038313/2995142726.py:25: IntegrationWarning: The maximum number of subdivisions (50) has been achieved.\n",
      "  If increasing the limit yields no improvement it is advised to analyze \n",
      "  the integrand in order to determine the difficulties.  If the position of a \n",
      "  local difficulty can be determined (singularity, discontinuity) one will \n",
      "  probably gain from splitting up the interval and calling the integrator \n",
      "  on the subranges.  Perhaps a special-purpose integrator should be used.\n",
      "  tm_spec[ti] = integrate.quad(photon_spec, *int_I)[0]\n"
     ]
    },
    {
     "name": "stdout",
     "output_type": "stream",
     "text": [
      "Nucleon_Spectra/Spectra_18p6/Spectra_Can/\n",
      "Nucleon_Spectra/Spectra_18p6/Spectra_Cap/\n",
      "Nucleon_Spectra/Spectra_18p6/Spectra_CanCap/\n"
     ]
    }
   ],
   "source": [
    "spec_dirs = [\"Primakoff_Spectra/Spectra_Primakoff_18p6/\", \"Nucleon_Spectra/Spectra_18p6/Spectra_Can/\", \"Nucleon_Spectra/Spectra_18p6/Spectra_Cap/\", \"Nucleon_Spectra/Spectra_18p6/Spectra_CanCap/\"]\n",
    "spec_dict = {\n",
    "    'Primakoff': [],\n",
    "    'n_Can': [],\n",
    "    'n_Cap': [],\n",
    "    'n_CanCap': []\n",
    "}\n",
    "\n",
    "for pi, stype in enumerate(spec_dict.keys()):\n",
    "    print(spec_dirs[pi])\n",
    "    # creating relevant photon spectrum components for 3 different energy bins in SMM data\n",
    "    spec_dict[stype] = np.expand_dims(calc_smm_spec(spec_dirs[pi], [[0.0041, 0.0064], [0.01, 0.025], [0.025, 0.1]], 5.85e-9), axis=1) # 3d array of SMM energy bin, axion mass array, and time bins\n",
    "\n",
    "spec_dict['time_bins'] = tbins # units of seconds\n",
    "spec_dict['E_bins'] = Ebins # units of GeV\n",
    "spec_dict['ma_array'] = [1e-21] # units of GeV\n",
    "\n",
    "# not considering pions, creating empty arrays for axion emission from pions\n",
    "spec_dict['p_Can'] = np.zeros_like(spec_dict['n_Can'])\n",
    "spec_dict['p_Cap'] = np.zeros_like(spec_dict['n_Can'])\n",
    "spec_dict['p_CanCap'] = np.zeros_like(spec_dict['n_Can'])\n",
    "\n",
    "data = np.loadtxt('smm_grs_data_sn1987a_oberauer93.dat', unpack=True)"
   ]
  },
  {
   "cell_type": "code",
   "execution_count": null,
   "metadata": {},
   "outputs": [],
   "source": []
  },
  {
   "cell_type": "code",
   "execution_count": 19,
   "metadata": {},
   "outputs": [
    {
     "name": "stdout",
     "output_type": "stream",
     "text": [
      "including primakoff\n",
      "including nucleon\n",
      "1.0280000000020664 3.0760000000009313\n",
      "3.0760000000009313 5.123999999999796\n",
      "5.123999999999796 7.172000000002299\n",
      "7.172000000002299 9.220000000001164\n",
      "1.0280000000020664 3.0760000000009313\n",
      "3.0760000000009313 5.123999999999796\n",
      "5.123999999999796 7.172000000002299\n",
      "7.172000000002299 9.220000000001164\n",
      "1.0280000000020664 3.0760000000009313\n",
      "3.0760000000009313 5.123999999999796\n",
      "5.123999999999796 7.172000000002299\n",
      "7.172000000002299 9.220000000001164\n"
     ]
    }
   ],
   "source": [
    "ma_idx = 0\n",
    "\n",
    "sm = model(ma_idx, (51.4 * u.kpc).to(u.cm).value, data[0], spec_dict, prim_flag=True, brem_flag=True, pion_flag=False)\n",
    "sig_ = sm.sig_model(gagg=1.0e-12)\n",
    "bkg_ = sm.bkg_model\n",
    "sa = analysis(data[0], data[1:], sig_, bkg_)\n",
    "\n",
    "sig_model_norm = np.amax(sa.sig_model) #this is a normalization factor for our signal when it undergoes fitting (see smm_analysis.py)"
   ]
  },
  {
   "cell_type": "code",
   "execution_count": 21,
   "metadata": {
    "scrolled": true
   },
   "outputs": [
    {
     "name": "stdout",
     "output_type": "stream",
     "text": [
      "0, 1, 2, 3, 4, 5, 6, 7, 8, 9, "
     ]
    }
   ],
   "source": [
    "norm_array = np.linspace(-1e2, 1e2, 501)\n",
    "fvals = np.zeros(len(norm_array))\n",
    "\n",
    "bl = 50\n",
    "bi = 0\n",
    "\n",
    "for i in range(len(norm_array)):\n",
    "    A = norm_array[i]\n",
    "    fit = lambda x: sa.negLL(np.append(x, A))\n",
    "    \n",
    "    out = differential_evolution(fit, [[5, 10], [-1, 1], [30, 35], [-1, 1], [10, 15], [-1, 1]], init = 'sobol', maxiter = 10000,\n",
    "                                 x0 = [7.77878979e+00, -1.36391545e-04,  3.28211092e+01, -1.79343614e-02, 1.22670755e+01, -9.57101247e-04])\n",
    "    if out.fun > 1e10:\n",
    "        out = differential_evolution(fit, [[5, 10], [-1, 1], [30, 35], [-1, 1], [10, 15], [-1, 1]], init = 'sobol', maxiter = 10000,\n",
    "                                 x0 = [7.77878979e+00, -1.36391545e-04,  3.28211092e+01, -1.79343614e-02, 1.22670755e+01, -9.57101247e-04])\n",
    "        print(\"nan issue?\")\n",
    "    fvals[i] = out.fun\n",
    "    \n",
    "    if (i % 50 == 49):\n",
    "        print(int(i / 50), end=', ')\n",
    "    \n",
    "    "
   ]
  },
  {
   "cell_type": "code",
   "execution_count": 23,
   "metadata": {},
   "outputs": [
    {
     "name": "stdout",
     "output_type": "stream",
     "text": [
      "The 95% Upper Limit is (GeV$^{-1}$):  1.853908892170983e-11\n"
     ]
    }
   ],
   "source": [
    "\n",
    "# Find minimum and compute one-sided upper 95% upper limit\n",
    "imin = np.argmin(fvals)\n",
    "fmin = fvals[imin]\n",
    "diff_f = fvals - fmin\n",
    "\n",
    "x = norm_array[imin:]\n",
    "y = diff_f[imin:]\n",
    "\n",
    "threshold = 2.71\n",
    "\n",
    "norm_95 = x[np.argmin(np.abs(y - threshold))]\n",
    "\n",
    "g_ul = (norm_95 /sig_model_norm)**(1/4) * 1.0e-12\n",
    "\n",
    "print(r'The 95% Upper Limit is (GeV$^{-1}$): ', g_ul)\n",
    "\n",
    "#Note that this is the upper limit on Fig. 1 (solid blue) of 2405.19393"
   ]
  }
 ],
 "metadata": {
  "kernelspec": {
   "display_name": "frankenstein",
   "language": "python",
   "name": "frankenstein"
  },
  "language_info": {
   "codemirror_mode": {
    "name": "ipython",
    "version": 3
   },
   "file_extension": ".py",
   "mimetype": "text/x-python",
   "name": "python",
   "nbconvert_exporter": "python",
   "pygments_lexer": "ipython3",
   "version": "3.8.18"
  }
 },
 "nbformat": 4,
 "nbformat_minor": 4
}
